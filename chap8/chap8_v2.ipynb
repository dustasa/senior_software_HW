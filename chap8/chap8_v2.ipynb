{
 "cells": [
  {
   "cell_type": "code",
   "execution_count": 1,
   "id": "66c21796",
   "metadata": {
    "ExecuteTime": {
     "end_time": "2021-10-24T06:13:30.744155Z",
     "start_time": "2021-10-24T06:13:28.704585Z"
    }
   },
   "outputs": [],
   "source": [
    "import torch\n",
    "import math\n",
    "import torch.nn as nn\n",
    "import torch.optim as optim\n",
    "import torch.utils\n",
    "import PIL\n",
    "from matplotlib import pyplot as plt\n",
    "from PIL import Image\n",
    "from torchvision import transforms\n",
    "from torchvision import datasets\n",
    "import d2l\n",
    "from d2l import torch as d2l\n",
    "from IPython import display\n",
    "import datetime\n",
    "import torch.nn.functional as F"
   ]
  },
  {
   "cell_type": "code",
   "execution_count": 2,
   "id": "ce4df47d",
   "metadata": {
    "ExecuteTime": {
     "end_time": "2021-10-24T06:14:10.809052Z",
     "start_time": "2021-10-24T06:14:09.392732Z"
    }
   },
   "outputs": [
    {
     "name": "stdout",
     "output_type": "stream",
     "text": [
      "Files already downloaded and verified\n",
      "Files already downloaded and verified\n"
     ]
    }
   ],
   "source": [
    "#Downloading CIFAR-10\n",
    "data_path = '../data-unversioned/p1ch7/'\n",
    "cifar10 = datasets.CIFAR10(data_path, train=True, download=True)\n",
    "cifar10_val = datasets.CIFAR10(data_path, train=False, download=True) #下载太慢请开代理"
   ]
  },
  {
   "cell_type": "code",
   "execution_count": 3,
   "id": "743f17a1",
   "metadata": {
    "ExecuteTime": {
     "end_time": "2021-10-24T06:14:17.170493Z",
     "start_time": "2021-10-24T06:14:16.206981Z"
    }
   },
   "outputs": [],
   "source": [
    "# 引入normalize的数据初始化\n",
    "tensor_cifar10_normalize_train = datasets.CIFAR10(data_path, train=True, download=False,\n",
    "                            transform = transforms.Compose([\n",
    "                                transforms.ToTensor(),\n",
    "                                transforms.Normalize((0.4915, 0.4823, 0.4468),\n",
    "                                                     (0.2470, 0.2435, 0.2616))\n",
    "                            ]))\n",
    "\n",
    "tensor_cifar10_normalize_val = datasets.CIFAR10(data_path, train=True, download=False,\n",
    "                            transform = transforms.Compose([\n",
    "                                transforms.ToTensor(),\n",
    "                                transforms.Normalize((0.4915, 0.4823, 0.4468),\n",
    "                                                     (0.2470, 0.2435, 0.2616))\n",
    "                            ]))"
   ]
  },
  {
   "cell_type": "code",
   "execution_count": 4,
   "id": "32f6a858",
   "metadata": {
    "ExecuteTime": {
     "end_time": "2021-10-24T06:14:38.421131Z",
     "start_time": "2021-10-24T06:14:22.535998Z"
    }
   },
   "outputs": [],
   "source": [
    "# Build the dataset and DataLoader\n",
    "\n",
    "label_map = {0: 0, 2: 1} # 占位符\n",
    "class_names = ['airplane', 'bird']\n",
    "# 训练集\n",
    "cifar2 = [(img, label_map[label])\n",
    "    for img, label in tensor_cifar10_normalize_train\n",
    "        if label in [0, 2]]\n",
    "# 验证集\n",
    "cifar2_val = [(img, label_map[label])\n",
    "   for img, label in tensor_cifar10_normalize_val\n",
    "      if label in [0, 2]]\n",
    "\n",
    "train_loader = torch.utils.data.DataLoader(cifar2, batch_size=64, shuffle=True)"
   ]
  },
  {
   "cell_type": "code",
   "execution_count": 5,
   "id": "43bb94c8",
   "metadata": {
    "ExecuteTime": {
     "end_time": "2021-10-24T06:15:38.855100Z",
     "start_time": "2021-10-24T06:15:38.850423Z"
    }
   },
   "outputs": [],
   "source": [
    "# 使用torch.nn.functional实现更简洁的定义网络的方法\n",
    "class Net(nn.Module):\n",
    "    def __init__(self):\n",
    "        super().__init__()\n",
    "        self.conv1 = nn.Conv2d(3, 16, kernel_size=3, padding=1)\n",
    "        self.conv2 = nn.Conv2d(16, 8, kernel_size=3, padding=1)\n",
    "        self.fc1 = nn.Linear(8 * 8 * 8, 32)\n",
    "        self.fc2 = nn.Linear(32, 2)\n",
    "        \n",
    "    def forward(self, x):\n",
    "        out = F.max_pool2d(torch.tanh(self.conv1(x)), 2)\n",
    "        out = F.max_pool2d(torch.tanh(self.conv2(out)), 2)\n",
    "        out = out.view(-1, 8 * 8 * 8)\n",
    "        out = torch.tanh(self.fc1(out))\n",
    "        out = self.fc2(out)\n",
    "        return out"
   ]
  },
  {
   "cell_type": "code",
   "execution_count": 10,
   "id": "d63edb6a",
   "metadata": {
    "ExecuteTime": {
     "end_time": "2021-10-24T06:28:01.613080Z",
     "start_time": "2021-10-24T06:28:01.607298Z"
    }
   },
   "outputs": [
    {
     "name": "stdout",
     "output_type": "stream",
     "text": [
      "Training on device cpu.\n"
     ]
    }
   ],
   "source": [
    "device = (torch.device('cuda') if torch.cuda.is_available()\n",
    "  else torch.device('cpu'))\n",
    "print(f\"Training on device {device}.\")"
   ]
  },
  {
   "cell_type": "code",
   "execution_count": 6,
   "id": "2e011735",
   "metadata": {
    "ExecuteTime": {
     "end_time": "2021-10-24T06:21:24.912225Z",
     "start_time": "2021-10-24T06:21:24.905426Z"
    }
   },
   "outputs": [],
   "source": [
    "import datetime\n",
    "\n",
    "def training_loop(n_epochs, optimizer, model, loss_fn, train_loader):\n",
    "    for epoch in range(1, n_epochs + 1):\n",
    "        loss_train = 0.0\n",
    "        for imgs, labels in train_loader:\n",
    "          imgs = imgs.to(device)\n",
    "          labels = labels.to(device)\n",
    "          outputs = model(imgs)\n",
    "          loss = loss_fn(outputs, labels)\n",
    "          optimizer.zero_grad()\n",
    "          loss.backward()\n",
    "          optimizer.step()\n",
    "          loss_train += loss.item()\n",
    "\n",
    "        if epoch == 1 or epoch % 10 == 0:\n",
    "            print('{} Epoch {}, Training loss {}'.format(datetime.datetime.now(), epoch, loss_train / len(train_loader)))"
   ]
  },
  {
   "cell_type": "code",
   "execution_count": null,
   "id": "82f195b4",
   "metadata": {
    "ExecuteTime": {
     "end_time": "2021-10-24T06:21:44.904833Z",
     "start_time": "2021-10-24T06:21:41.201Z"
    }
   },
   "outputs": [],
   "source": [
    "model = Net().to(device=device)\n",
    "optimizer = optim.SGD(model.parameters(), lr=1e-2)\n",
    "loss_fn = nn.CrossEntropyLoss()\n",
    "\n",
    "training_loop(\n",
    "  n_epochs = 100,\n",
    "  optimizer = optimizer,\n",
    "  model = model,\n",
    "  loss_fn = loss_fn,\n",
    "  train_loader = train_loader,\n",
    ")"
   ]
  },
  {
   "cell_type": "code",
   "execution_count": 7,
   "id": "016c0dfe",
   "metadata": {
    "ExecuteTime": {
     "end_time": "2021-10-24T06:23:25.179106Z",
     "start_time": "2021-10-24T06:23:25.174841Z"
    }
   },
   "outputs": [],
   "source": [
    "# 8.4.1 Measuring accuracy\n",
    "train_loader = torch.utils.data.DataLoader(cifar2, batch_size=64, shuffle=False)\n",
    "val_loader = torch.utils.data.DataLoader(cifar2_val, batch_size=64, shuffle=False)\n"
   ]
  },
  {
   "cell_type": "code",
   "execution_count": null,
   "id": "934e0ff8",
   "metadata": {
    "ExecuteTime": {
     "end_time": "2021-10-24T06:27:08.857345Z",
     "start_time": "2021-10-24T06:26:49.623Z"
    }
   },
   "outputs": [],
   "source": [
    "def validate(model, train_loader, val_loader):\n",
    "    for name, loader in [(\"train\", train_loader), (\"val\", val_loader)]:\n",
    "        correct = 0\n",
    "        total = 0\n",
    "    with torch.no_grad():\n",
    "        for imgs, labels in loader:\n",
    "            outputs = model(imgs)\n",
    "            _, predicted = torch.max(outputs, dim=1)\n",
    "            total += labels.shape[0]\n",
    "            correct += int((predicted == labels).sum())\n",
    "    print(\"Accuracy {}: {:.2f}\".format(name , correct / total))\n",
    "    \n",
    "validate(model, train_loader, val_loader)"
   ]
  },
  {
   "cell_type": "code",
   "execution_count": null,
   "id": "70ae7981",
   "metadata": {},
   "outputs": [],
   "source": []
  }
 ],
 "metadata": {
  "kernelspec": {
   "display_name": "Python 3",
   "language": "python",
   "name": "python3"
  },
  "language_info": {
   "codemirror_mode": {
    "name": "ipython",
    "version": 3
   },
   "file_extension": ".py",
   "mimetype": "text/x-python",
   "name": "python",
   "nbconvert_exporter": "python",
   "pygments_lexer": "ipython3",
   "version": "3.7.7"
  },
  "varInspector": {
   "cols": {
    "lenName": 16,
    "lenType": 16,
    "lenVar": 40
   },
   "kernels_config": {
    "python": {
     "delete_cmd_postfix": "",
     "delete_cmd_prefix": "del ",
     "library": "var_list.py",
     "varRefreshCmd": "print(var_dic_list())"
    },
    "r": {
     "delete_cmd_postfix": ") ",
     "delete_cmd_prefix": "rm(",
     "library": "var_list.r",
     "varRefreshCmd": "cat(var_dic_list()) "
    }
   },
   "types_to_exclude": [
    "module",
    "function",
    "builtin_function_or_method",
    "instance",
    "_Feature"
   ],
   "window_display": false
  }
 },
 "nbformat": 4,
 "nbformat_minor": 5
}
