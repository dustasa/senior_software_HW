{
 "cells": [
  {
   "cell_type": "code",
   "execution_count": 1,
   "id": "daf09303-d386-44da-9911-9dc5353f1cf2",
   "metadata": {},
   "outputs": [],
   "source": [
    "import torch\n",
    "import math\n",
    "import torch.nn as nn\n",
    "import torch.optim as optim\n",
    "import torch.utils\n",
    "import PIL\n",
    "from matplotlib import pyplot as plt\n",
    "from PIL import Image\n",
    "from torchvision import transforms\n",
    "from torchvision import datasets\n",
    "import d2l\n",
    "from d2l import torch as d2l\n",
    "import datetime\n",
    "import torch.nn.functional as F"
   ]
  },
  {
   "cell_type": "code",
   "execution_count": 2,
   "id": "ceeb0099-cc6c-4ba2-9367-64d0e005cdb3",
   "metadata": {},
   "outputs": [
    {
     "name": "stdout",
     "output_type": "stream",
     "text": [
      "Files already downloaded and verified\n",
      "Files already downloaded and verified\n"
     ]
    }
   ],
   "source": [
    "#Downloading CIFAR-10\n",
    "data_path = '../data-unversioned/p1ch7/'\n",
    "cifar10 = datasets.CIFAR10(data_path, train=True, download=True)\n",
    "cifar10_val = datasets.CIFAR10(data_path, train=False, download=True) #下载太慢请开代理"
   ]
  },
  {
   "cell_type": "code",
   "execution_count": 3,
   "id": "863d40ce-6bf6-47bb-9ef0-5e0162207ee2",
   "metadata": {},
   "outputs": [],
   "source": [
    "# 引入normalize的数据初始化\n",
    "tensor_cifar10_normalize_train = datasets.CIFAR10(data_path, train=True, download=False,\n",
    "                            transform = transforms.Compose([\n",
    "                                transforms.ToTensor(),\n",
    "                                transforms.Normalize((0.4915, 0.4823, 0.4468),\n",
    "                                                     (0.2470, 0.2435, 0.2616))\n",
    "                            ]))\n",
    "\n",
    "tensor_cifar10_normalize_val = datasets.CIFAR10(data_path, train=True, download=False,\n",
    "                            transform = transforms.Compose([\n",
    "                                transforms.ToTensor(),\n",
    "                                transforms.Normalize((0.4915, 0.4823, 0.4468),\n",
    "                                                     (0.2470, 0.2435, 0.2616))\n",
    "                            ]))"
   ]
  },
  {
   "cell_type": "code",
   "execution_count": 4,
   "id": "0431938b-3e08-45e0-95a7-892a31826161",
   "metadata": {},
   "outputs": [],
   "source": [
    "# Build the dataset and DataLoader\n",
    "\n",
    "label_map = {0: 0, 2: 1} # 占位符\n",
    "class_names = ['airplane', 'bird']\n",
    "# 训练集\n",
    "cifar2 = [(img, label_map[label])\n",
    "    for img, label in tensor_cifar10_normalize_train\n",
    "        if label in [0, 2]]\n",
    "# 验证集\n",
    "#cifar2_val = [(img, label_map[label])\n",
    "#   for img, label in tensor_cifar10_normalize_val\n",
    "#      if label in [0, 2]]\n",
    "\n",
    "train_loader = torch.utils.data.DataLoader(cifar2, batch_size=64, shuffle=True)"
   ]
  },
  {
   "cell_type": "code",
   "execution_count": 5,
   "id": "35eee678-8211-40db-bf96-cdfbc81607ed",
   "metadata": {},
   "outputs": [],
   "source": [
    "# train_loop\n",
    "def training_loop(n_epochs, optimizer, model, loss_fn, train_loader):\n",
    "    \n",
    "    for epoch in range(1, n_epochs + 1):\n",
    "        loss_train = 0.0\n",
    "        \n",
    "        for imgs, labels in train_loader:\n",
    "            imgs = imgs.cuda()\n",
    "            labels = labels.cuda()\n",
    "\n",
    "            batch_size = imgs.shape[0]\n",
    "            outputs = model(imgs.view(batch_size, -1))\n",
    "            loss = loss_fn(outputs, labels)\n",
    "\n",
    "            optimizer.zero_grad()\n",
    "            loss.backward()\n",
    "            optimizer.step()\n",
    "\n",
    "            loss_train += loss.item()\n",
    "\n",
    "        if epoch == 1 or epoch % 10 == 0:\n",
    "            print('{} Epoch {}, Training loss {}'.format(datetime.datetime.now(), epoch, loss_train / len(train_loader)))"
   ]
  },
  {
   "cell_type": "code",
   "execution_count": 6,
   "id": "5cf680f5-189a-4d67-bf92-3eef51f7c881",
   "metadata": {},
   "outputs": [],
   "source": [
    "model = nn.Sequential(\n",
    "        nn.Linear(3072, 512),\n",
    "        nn.Tanh(),\n",
    "        nn.Linear(512, 2),\n",
    "        nn.LogSoftmax(dim=1))\n",
    "\n",
    "model.cuda()\n",
    "\n",
    "optimizer = optim.SGD(model.parameters(), lr = 1e-2)\n",
    "loss_fn = nn.NLLLoss()"
   ]
  },
  {
   "cell_type": "code",
   "execution_count": 7,
   "id": "81f794b7-5ca6-407a-8357-f363f985b8e8",
   "metadata": {},
   "outputs": [
    {
     "name": "stdout",
     "output_type": "stream",
     "text": [
      "2021-10-15 03:09:18.204090 Epoch 1, Training loss 0.5083087659945154\n",
      "2021-10-15 03:09:21.482491 Epoch 10, Training loss 0.3811726199973161\n",
      "2021-10-15 03:09:25.087902 Epoch 20, Training loss 0.30093338819825727\n",
      "2021-10-15 03:09:28.653624 Epoch 30, Training loss 0.2129609514099018\n",
      "2021-10-15 03:09:32.220413 Epoch 40, Training loss 0.1421883511505309\n",
      "2021-10-15 03:09:35.879727 Epoch 50, Training loss 0.09099124941476591\n",
      "2021-10-15 03:09:39.516388 Epoch 60, Training loss 0.05940437073682903\n",
      "2021-10-15 03:09:43.147935 Epoch 70, Training loss 0.04027432285154321\n",
      "2021-10-15 03:09:46.744683 Epoch 80, Training loss 0.028183614793619152\n",
      "2021-10-15 03:09:50.374837 Epoch 90, Training loss 0.02366593038176845\n",
      "2021-10-15 03:09:53.946078 Epoch 100, Training loss 0.017173104014864583\n"
     ]
    }
   ],
   "source": [
    "training_loop(\n",
    "            n_epochs = 100,\n",
    "            optimizer = optimizer,\n",
    "            model = model,\n",
    "            loss_fn = loss_fn,\n",
    "            train_loader = train_loader,\n",
    "            )"
   ]
  },
  {
   "cell_type": "code",
   "execution_count": null,
   "id": "c6a6023f-923b-45d5-aacf-af4f4a70807e",
   "metadata": {},
   "outputs": [],
   "source": []
  }
 ],
 "metadata": {
  "kernelspec": {
   "display_name": "myconda",
   "language": "python",
   "name": "myconda"
  },
  "language_info": {
   "codemirror_mode": {
    "name": "ipython",
    "version": 3
   },
   "file_extension": ".py",
   "mimetype": "text/x-python",
   "name": "python",
   "nbconvert_exporter": "python",
   "pygments_lexer": "ipython3",
   "version": "3.7.10"
  }
 },
 "nbformat": 4,
 "nbformat_minor": 5
}
