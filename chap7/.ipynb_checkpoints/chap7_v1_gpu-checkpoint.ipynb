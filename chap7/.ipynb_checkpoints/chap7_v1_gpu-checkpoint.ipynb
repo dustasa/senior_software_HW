{
 "cells": [
  {
   "cell_type": "code",
   "execution_count": 4,
   "id": "979c0029",
   "metadata": {},
   "outputs": [],
   "source": [
    "import torch\n",
    "import math\n",
    "import torch.nn as nn\n",
    "import torch.optim as optim\n",
    "import PIL\n",
    "from matplotlib import pyplot as plt\n",
    "from PIL import Image\n",
    "from torchvision import transforms"
   ]
  },
  {
   "cell_type": "code",
   "execution_count": 5,
   "id": "caf8f675",
   "metadata": {},
   "outputs": [
    {
     "name": "stdout",
     "output_type": "stream",
     "text": [
      "Files already downloaded and verified\n",
      "Files already downloaded and verified\n"
     ]
    }
   ],
   "source": [
    "#7.1.1  Downloading CIFAR-10\n",
    "from torchvision import datasets\n",
    "\n",
    "data_path = '../data-unversioned/p1ch7/'\n",
    "cifar10 = datasets.CIFAR10(data_path, train=True, download=True)\n",
    "cifar10_val = datasets.CIFAR10(data_path, train=False, download=True) #下载太慢请开代理"
   ]
  },
  {
   "cell_type": "code",
   "execution_count": 6,
   "id": "caee0697",
   "metadata": {},
   "outputs": [],
   "source": [
    "# 引入normalize的数据初始化\n",
    "tensor_cifar10_normalize_train = datasets.CIFAR10(data_path, train=True, download=False,\n",
    "                            transform = transforms.Compose([\n",
    "                                transforms.ToTensor(),\n",
    "                                transforms.Normalize((0.4915, 0.4823, 0.4468),\n",
    "                                                     (0.2470, 0.2435, 0.2616))\n",
    "                            ]))"
   ]
  },
  {
   "cell_type": "code",
   "execution_count": 7,
   "id": "ae809da8",
   "metadata": {},
   "outputs": [],
   "source": [
    "tensor_cifar10_normalize_val = datasets.CIFAR10(data_path, train=True, download=False,\n",
    "                            transform = transforms.Compose([\n",
    "                                transforms.ToTensor(),\n",
    "                                transforms.Normalize((0.4915, 0.4823, 0.4468),\n",
    "                                                     (0.2470, 0.2435, 0.2616))\n",
    "                            ]))"
   ]
  },
  {
   "cell_type": "code",
   "execution_count": 8,
   "id": "a3230bf1",
   "metadata": {},
   "outputs": [],
   "source": [
    "# 7.2 Distinguishing birds from airplanes\n",
    "# 7.2.1 Building the dataset\n",
    "\n",
    "label_map = {0: 0, 2: 1} # 占位符\n",
    "class_names = ['airplane', 'bird']\n",
    "# 训练集\n",
    "cifar2 = [(img, label_map[label])\n",
    "    for img, label in tensor_cifar10_normalize_train\n",
    "        if label in [0, 2]]\n",
    "# 验证集\n",
    "cifar2_val = [(img, label_map[label])\n",
    "    for img, label in tensor_cifar10_normalize_val\n",
    "        if label in [0, 2]]"
   ]
  },
  {
   "cell_type": "code",
   "execution_count": 9,
   "id": "e340863c",
   "metadata": {},
   "outputs": [
    {
     "name": "stdout",
     "output_type": "stream",
     "text": [
      "Epoch: 0, Loss: 10.360884\n",
      "Epoch: 1, Loss: 6.284472\n"
     ]
    }
   ],
   "source": [
    "# 7.2.6 Training the classifier\n",
    "import torch\n",
    "import torch.nn as nn\n",
    "import torch.optim as optim\n",
    "\n",
    "model_F3 = nn.Sequential(\n",
    "        nn.Linear(3072, 512),\n",
    "        nn.Tanh(),\n",
    "        nn.Linear(512, 2),\n",
    "        nn.LogSoftmax(dim=1))\n",
    "lr = 1e-2\n",
    "optimizer = optim.SGD(model_F3.parameters(),lr =lr)\n",
    "loss_fn = nn.NLLLoss()\n",
    "#n_epochs = 100\n",
    "n_epochs = 2\n",
    "\n",
    "for epoch in range(n_epochs):\n",
    "    for img, label in cifar2:\n",
    "        out = model_F3(img.view(-1).unsqueeze(0))\n",
    "        loss = loss_fn(out,torch.tensor([label]))\n",
    "        \n",
    "        optimizer.zero_grad()\n",
    "        loss.backward()\n",
    "        optimizer.step()\n",
    "        \n",
    "    print(\"Epoch: %d, Loss: %f\" % (epoch, float(loss)))"
   ]
  },
  {
   "cell_type": "code",
   "execution_count": null,
   "id": "c45c4f8b",
   "metadata": {},
   "outputs": [],
   "source": []
  }
 ],
 "metadata": {
  "kernelspec": {
   "display_name": "Python 3",
   "language": "python",
   "name": "python3"
  },
  "language_info": {
   "codemirror_mode": {
    "name": "ipython",
    "version": 3
   },
   "file_extension": ".py",
   "mimetype": "text/x-python",
   "name": "python",
   "nbconvert_exporter": "python",
   "pygments_lexer": "ipython3",
   "version": "3.7.7"
  }
 },
 "nbformat": 4,
 "nbformat_minor": 5
}
